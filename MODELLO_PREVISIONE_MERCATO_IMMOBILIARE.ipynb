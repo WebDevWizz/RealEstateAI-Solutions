{
  "nbformat": 4,
  "nbformat_minor": 0,
  "metadata": {
    "colab": {
      "provenance": []
    },
    "kernelspec": {
      "name": "python3",
      "display_name": "Python 3"
    },
    "language_info": {
      "name": "python"
    }
  },
  "cells": [
    {
      "cell_type": "markdown",
      "source": [
        "# SIGNIFICATO COLONNE DATASET:\n",
        "**- Price: il prezzo, il target da prevedere**\n",
        "- Area: superficie dell’immobile\n",
        "- Bedrooms: numero di camere da letto\n",
        "- Bathrooms: numero di bagni\n",
        "- Stories: numero di piani\n",
        "- Mainroad: vale 1 se l’immobile affaccia su una strada principale, 0 altrimenti\n",
        "- Guestroom: vale 1 se l’immobile ha una stanza degli ospiti, 0 altrimenti\n",
        "- Basement: vale 1 se l’immobile ha un seminterrato, 0 altrimenti\n",
        "- Hotwaterheating: vale 1 se l’immobile ha una caldaia, 0 altrimenti\n",
        "- Airconditioning: vale 1 se l’immobile ha l’aria condizionata, 0 altrimenti\n",
        "- Parking: numero di parcheggi\n",
        "- Prefarea: vale 1 se l’immobile è in una zona prestigiosa, 0 altrimenti\n",
        "- Furnishingstatus: vale 0 se l’immobile non è arredato, 1 se è parzialmente arredato, 2 se è completamente arredato"
      ],
      "metadata": {
        "id": "qhdklEqyWHuF"
      }
    },
    {
      "cell_type": "code",
      "execution_count": 1,
      "metadata": {
        "id": "_mM-vIVFUJ_t"
      },
      "outputs": [],
      "source": [
        "import pandas as pd\n",
        "import numpy as np\n",
        "from sklearn.model_selection import train_test_split, cross_val_score, learning_curve\n",
        "from sklearn.linear_model import LinearRegression, Lasso, Ridge, ElasticNet\n",
        "from sklearn.metrics import mean_squared_error, r2_score\n",
        "from sklearn.preprocessing import StandardScaler\n",
        "import matplotlib.pyplot as plt\n",
        "import seaborn as sns"
      ]
    },
    {
      "cell_type": "code",
      "source": [
        "RANDOM_SEED = 0"
      ],
      "metadata": {
        "id": "GlUGwx1EUPkH"
      },
      "execution_count": 2,
      "outputs": []
    },
    {
      "cell_type": "code",
      "source": [
        "BASE_URL = \"https://proai-datasets.s3.eu-west-3.amazonaws.com/\""
      ],
      "metadata": {
        "id": "PWb8iiw7UPcp"
      },
      "execution_count": 3,
      "outputs": []
    },
    {
      "cell_type": "code",
      "source": [
        "df = pd.read_csv(BASE_URL + \"housing.csv\")\n",
        "df.head()"
      ],
      "metadata": {
        "colab": {
          "base_uri": "https://localhost:8080/",
          "height": 204
        },
        "id": "QrE6UwF1UPaS",
        "outputId": "46fb9525-4e59-4447-9924-626517698cd9"
      },
      "execution_count": 4,
      "outputs": [
        {
          "output_type": "execute_result",
          "data": {
            "text/plain": [
              "      price  area  bedrooms  bathrooms  stories  mainroad  guestroom  \\\n",
              "0  13300000  7420         4          2        3         1          0   \n",
              "1  12250000  8960         4          4        4         1          0   \n",
              "2  12250000  9960         3          2        2         1          0   \n",
              "3  12215000  7500         4          2        2         1          0   \n",
              "4  11410000  7420         4          1        2         1          1   \n",
              "\n",
              "   basement  hotwaterheating  airconditioning  parking  prefarea  \\\n",
              "0         0                0                1        2         1   \n",
              "1         0                0                1        3         0   \n",
              "2         1                0                0        2         1   \n",
              "3         1                0                1        3         1   \n",
              "4         1                0                1        2         0   \n",
              "\n",
              "   furnishingstatus  \n",
              "0                 1  \n",
              "1                 1  \n",
              "2                 2  \n",
              "3                 1  \n",
              "4                 1  "
            ],
            "text/html": [
              "\n",
              "  <div id=\"df-325d2d94-85ee-4501-95c7-501cc9e69742\" class=\"colab-df-container\">\n",
              "    <div>\n",
              "<style scoped>\n",
              "    .dataframe tbody tr th:only-of-type {\n",
              "        vertical-align: middle;\n",
              "    }\n",
              "\n",
              "    .dataframe tbody tr th {\n",
              "        vertical-align: top;\n",
              "    }\n",
              "\n",
              "    .dataframe thead th {\n",
              "        text-align: right;\n",
              "    }\n",
              "</style>\n",
              "<table border=\"1\" class=\"dataframe\">\n",
              "  <thead>\n",
              "    <tr style=\"text-align: right;\">\n",
              "      <th></th>\n",
              "      <th>price</th>\n",
              "      <th>area</th>\n",
              "      <th>bedrooms</th>\n",
              "      <th>bathrooms</th>\n",
              "      <th>stories</th>\n",
              "      <th>mainroad</th>\n",
              "      <th>guestroom</th>\n",
              "      <th>basement</th>\n",
              "      <th>hotwaterheating</th>\n",
              "      <th>airconditioning</th>\n",
              "      <th>parking</th>\n",
              "      <th>prefarea</th>\n",
              "      <th>furnishingstatus</th>\n",
              "    </tr>\n",
              "  </thead>\n",
              "  <tbody>\n",
              "    <tr>\n",
              "      <th>0</th>\n",
              "      <td>13300000</td>\n",
              "      <td>7420</td>\n",
              "      <td>4</td>\n",
              "      <td>2</td>\n",
              "      <td>3</td>\n",
              "      <td>1</td>\n",
              "      <td>0</td>\n",
              "      <td>0</td>\n",
              "      <td>0</td>\n",
              "      <td>1</td>\n",
              "      <td>2</td>\n",
              "      <td>1</td>\n",
              "      <td>1</td>\n",
              "    </tr>\n",
              "    <tr>\n",
              "      <th>1</th>\n",
              "      <td>12250000</td>\n",
              "      <td>8960</td>\n",
              "      <td>4</td>\n",
              "      <td>4</td>\n",
              "      <td>4</td>\n",
              "      <td>1</td>\n",
              "      <td>0</td>\n",
              "      <td>0</td>\n",
              "      <td>0</td>\n",
              "      <td>1</td>\n",
              "      <td>3</td>\n",
              "      <td>0</td>\n",
              "      <td>1</td>\n",
              "    </tr>\n",
              "    <tr>\n",
              "      <th>2</th>\n",
              "      <td>12250000</td>\n",
              "      <td>9960</td>\n",
              "      <td>3</td>\n",
              "      <td>2</td>\n",
              "      <td>2</td>\n",
              "      <td>1</td>\n",
              "      <td>0</td>\n",
              "      <td>1</td>\n",
              "      <td>0</td>\n",
              "      <td>0</td>\n",
              "      <td>2</td>\n",
              "      <td>1</td>\n",
              "      <td>2</td>\n",
              "    </tr>\n",
              "    <tr>\n",
              "      <th>3</th>\n",
              "      <td>12215000</td>\n",
              "      <td>7500</td>\n",
              "      <td>4</td>\n",
              "      <td>2</td>\n",
              "      <td>2</td>\n",
              "      <td>1</td>\n",
              "      <td>0</td>\n",
              "      <td>1</td>\n",
              "      <td>0</td>\n",
              "      <td>1</td>\n",
              "      <td>3</td>\n",
              "      <td>1</td>\n",
              "      <td>1</td>\n",
              "    </tr>\n",
              "    <tr>\n",
              "      <th>4</th>\n",
              "      <td>11410000</td>\n",
              "      <td>7420</td>\n",
              "      <td>4</td>\n",
              "      <td>1</td>\n",
              "      <td>2</td>\n",
              "      <td>1</td>\n",
              "      <td>1</td>\n",
              "      <td>1</td>\n",
              "      <td>0</td>\n",
              "      <td>1</td>\n",
              "      <td>2</td>\n",
              "      <td>0</td>\n",
              "      <td>1</td>\n",
              "    </tr>\n",
              "  </tbody>\n",
              "</table>\n",
              "</div>\n",
              "    <div class=\"colab-df-buttons\">\n",
              "\n",
              "  <div class=\"colab-df-container\">\n",
              "    <button class=\"colab-df-convert\" onclick=\"convertToInteractive('df-325d2d94-85ee-4501-95c7-501cc9e69742')\"\n",
              "            title=\"Convert this dataframe to an interactive table.\"\n",
              "            style=\"display:none;\">\n",
              "\n",
              "  <svg xmlns=\"http://www.w3.org/2000/svg\" height=\"24px\" viewBox=\"0 -960 960 960\">\n",
              "    <path d=\"M120-120v-720h720v720H120Zm60-500h600v-160H180v160Zm220 220h160v-160H400v160Zm0 220h160v-160H400v160ZM180-400h160v-160H180v160Zm440 0h160v-160H620v160ZM180-180h160v-160H180v160Zm440 0h160v-160H620v160Z\"/>\n",
              "  </svg>\n",
              "    </button>\n",
              "\n",
              "  <style>\n",
              "    .colab-df-container {\n",
              "      display:flex;\n",
              "      gap: 12px;\n",
              "    }\n",
              "\n",
              "    .colab-df-convert {\n",
              "      background-color: #E8F0FE;\n",
              "      border: none;\n",
              "      border-radius: 50%;\n",
              "      cursor: pointer;\n",
              "      display: none;\n",
              "      fill: #1967D2;\n",
              "      height: 32px;\n",
              "      padding: 0 0 0 0;\n",
              "      width: 32px;\n",
              "    }\n",
              "\n",
              "    .colab-df-convert:hover {\n",
              "      background-color: #E2EBFA;\n",
              "      box-shadow: 0px 1px 2px rgba(60, 64, 67, 0.3), 0px 1px 3px 1px rgba(60, 64, 67, 0.15);\n",
              "      fill: #174EA6;\n",
              "    }\n",
              "\n",
              "    .colab-df-buttons div {\n",
              "      margin-bottom: 4px;\n",
              "    }\n",
              "\n",
              "    [theme=dark] .colab-df-convert {\n",
              "      background-color: #3B4455;\n",
              "      fill: #D2E3FC;\n",
              "    }\n",
              "\n",
              "    [theme=dark] .colab-df-convert:hover {\n",
              "      background-color: #434B5C;\n",
              "      box-shadow: 0px 1px 3px 1px rgba(0, 0, 0, 0.15);\n",
              "      filter: drop-shadow(0px 1px 2px rgba(0, 0, 0, 0.3));\n",
              "      fill: #FFFFFF;\n",
              "    }\n",
              "  </style>\n",
              "\n",
              "    <script>\n",
              "      const buttonEl =\n",
              "        document.querySelector('#df-325d2d94-85ee-4501-95c7-501cc9e69742 button.colab-df-convert');\n",
              "      buttonEl.style.display =\n",
              "        google.colab.kernel.accessAllowed ? 'block' : 'none';\n",
              "\n",
              "      async function convertToInteractive(key) {\n",
              "        const element = document.querySelector('#df-325d2d94-85ee-4501-95c7-501cc9e69742');\n",
              "        const dataTable =\n",
              "          await google.colab.kernel.invokeFunction('convertToInteractive',\n",
              "                                                    [key], {});\n",
              "        if (!dataTable) return;\n",
              "\n",
              "        const docLinkHtml = 'Like what you see? Visit the ' +\n",
              "          '<a target=\"_blank\" href=https://colab.research.google.com/notebooks/data_table.ipynb>data table notebook</a>'\n",
              "          + ' to learn more about interactive tables.';\n",
              "        element.innerHTML = '';\n",
              "        dataTable['output_type'] = 'display_data';\n",
              "        await google.colab.output.renderOutput(dataTable, element);\n",
              "        const docLink = document.createElement('div');\n",
              "        docLink.innerHTML = docLinkHtml;\n",
              "        element.appendChild(docLink);\n",
              "      }\n",
              "    </script>\n",
              "  </div>\n",
              "\n",
              "\n",
              "    <div id=\"df-cee5ca55-9ae3-47e0-a9cb-9285bb8a2fc3\">\n",
              "      <button class=\"colab-df-quickchart\" onclick=\"quickchart('df-cee5ca55-9ae3-47e0-a9cb-9285bb8a2fc3')\"\n",
              "                title=\"Suggest charts\"\n",
              "                style=\"display:none;\">\n",
              "\n",
              "<svg xmlns=\"http://www.w3.org/2000/svg\" height=\"24px\"viewBox=\"0 0 24 24\"\n",
              "     width=\"24px\">\n",
              "    <g>\n",
              "        <path d=\"M19 3H5c-1.1 0-2 .9-2 2v14c0 1.1.9 2 2 2h14c1.1 0 2-.9 2-2V5c0-1.1-.9-2-2-2zM9 17H7v-7h2v7zm4 0h-2V7h2v10zm4 0h-2v-4h2v4z\"/>\n",
              "    </g>\n",
              "</svg>\n",
              "      </button>\n",
              "\n",
              "<style>\n",
              "  .colab-df-quickchart {\n",
              "      --bg-color: #E8F0FE;\n",
              "      --fill-color: #1967D2;\n",
              "      --hover-bg-color: #E2EBFA;\n",
              "      --hover-fill-color: #174EA6;\n",
              "      --disabled-fill-color: #AAA;\n",
              "      --disabled-bg-color: #DDD;\n",
              "  }\n",
              "\n",
              "  [theme=dark] .colab-df-quickchart {\n",
              "      --bg-color: #3B4455;\n",
              "      --fill-color: #D2E3FC;\n",
              "      --hover-bg-color: #434B5C;\n",
              "      --hover-fill-color: #FFFFFF;\n",
              "      --disabled-bg-color: #3B4455;\n",
              "      --disabled-fill-color: #666;\n",
              "  }\n",
              "\n",
              "  .colab-df-quickchart {\n",
              "    background-color: var(--bg-color);\n",
              "    border: none;\n",
              "    border-radius: 50%;\n",
              "    cursor: pointer;\n",
              "    display: none;\n",
              "    fill: var(--fill-color);\n",
              "    height: 32px;\n",
              "    padding: 0;\n",
              "    width: 32px;\n",
              "  }\n",
              "\n",
              "  .colab-df-quickchart:hover {\n",
              "    background-color: var(--hover-bg-color);\n",
              "    box-shadow: 0 1px 2px rgba(60, 64, 67, 0.3), 0 1px 3px 1px rgba(60, 64, 67, 0.15);\n",
              "    fill: var(--button-hover-fill-color);\n",
              "  }\n",
              "\n",
              "  .colab-df-quickchart-complete:disabled,\n",
              "  .colab-df-quickchart-complete:disabled:hover {\n",
              "    background-color: var(--disabled-bg-color);\n",
              "    fill: var(--disabled-fill-color);\n",
              "    box-shadow: none;\n",
              "  }\n",
              "\n",
              "  .colab-df-spinner {\n",
              "    border: 2px solid var(--fill-color);\n",
              "    border-color: transparent;\n",
              "    border-bottom-color: var(--fill-color);\n",
              "    animation:\n",
              "      spin 1s steps(1) infinite;\n",
              "  }\n",
              "\n",
              "  @keyframes spin {\n",
              "    0% {\n",
              "      border-color: transparent;\n",
              "      border-bottom-color: var(--fill-color);\n",
              "      border-left-color: var(--fill-color);\n",
              "    }\n",
              "    20% {\n",
              "      border-color: transparent;\n",
              "      border-left-color: var(--fill-color);\n",
              "      border-top-color: var(--fill-color);\n",
              "    }\n",
              "    30% {\n",
              "      border-color: transparent;\n",
              "      border-left-color: var(--fill-color);\n",
              "      border-top-color: var(--fill-color);\n",
              "      border-right-color: var(--fill-color);\n",
              "    }\n",
              "    40% {\n",
              "      border-color: transparent;\n",
              "      border-right-color: var(--fill-color);\n",
              "      border-top-color: var(--fill-color);\n",
              "    }\n",
              "    60% {\n",
              "      border-color: transparent;\n",
              "      border-right-color: var(--fill-color);\n",
              "    }\n",
              "    80% {\n",
              "      border-color: transparent;\n",
              "      border-right-color: var(--fill-color);\n",
              "      border-bottom-color: var(--fill-color);\n",
              "    }\n",
              "    90% {\n",
              "      border-color: transparent;\n",
              "      border-bottom-color: var(--fill-color);\n",
              "    }\n",
              "  }\n",
              "</style>\n",
              "\n",
              "      <script>\n",
              "        async function quickchart(key) {\n",
              "          const quickchartButtonEl =\n",
              "            document.querySelector('#' + key + ' button');\n",
              "          quickchartButtonEl.disabled = true;  // To prevent multiple clicks.\n",
              "          quickchartButtonEl.classList.add('colab-df-spinner');\n",
              "          try {\n",
              "            const charts = await google.colab.kernel.invokeFunction(\n",
              "                'suggestCharts', [key], {});\n",
              "          } catch (error) {\n",
              "            console.error('Error during call to suggestCharts:', error);\n",
              "          }\n",
              "          quickchartButtonEl.classList.remove('colab-df-spinner');\n",
              "          quickchartButtonEl.classList.add('colab-df-quickchart-complete');\n",
              "        }\n",
              "        (() => {\n",
              "          let quickchartButtonEl =\n",
              "            document.querySelector('#df-cee5ca55-9ae3-47e0-a9cb-9285bb8a2fc3 button');\n",
              "          quickchartButtonEl.style.display =\n",
              "            google.colab.kernel.accessAllowed ? 'block' : 'none';\n",
              "        })();\n",
              "      </script>\n",
              "    </div>\n",
              "\n",
              "    </div>\n",
              "  </div>\n"
            ],
            "application/vnd.google.colaboratory.intrinsic+json": {
              "type": "dataframe",
              "variable_name": "df",
              "summary": "{\n  \"name\": \"df\",\n  \"rows\": 545,\n  \"fields\": [\n    {\n      \"column\": \"price\",\n      \"properties\": {\n        \"dtype\": \"number\",\n        \"std\": 1870439,\n        \"min\": 1750000,\n        \"max\": 13300000,\n        \"num_unique_values\": 219,\n        \"samples\": [\n          3773000,\n          5285000,\n          1820000\n        ],\n        \"semantic_type\": \"\",\n        \"description\": \"\"\n      }\n    },\n    {\n      \"column\": \"area\",\n      \"properties\": {\n        \"dtype\": \"number\",\n        \"std\": 2170,\n        \"min\": 1650,\n        \"max\": 16200,\n        \"num_unique_values\": 284,\n        \"samples\": [\n          6000,\n          2684,\n          5360\n        ],\n        \"semantic_type\": \"\",\n        \"description\": \"\"\n      }\n    },\n    {\n      \"column\": \"bedrooms\",\n      \"properties\": {\n        \"dtype\": \"number\",\n        \"std\": 0,\n        \"min\": 1,\n        \"max\": 6,\n        \"num_unique_values\": 6,\n        \"samples\": [\n          4,\n          3,\n          1\n        ],\n        \"semantic_type\": \"\",\n        \"description\": \"\"\n      }\n    },\n    {\n      \"column\": \"bathrooms\",\n      \"properties\": {\n        \"dtype\": \"number\",\n        \"std\": 0,\n        \"min\": 1,\n        \"max\": 4,\n        \"num_unique_values\": 4,\n        \"samples\": [\n          4,\n          3,\n          2\n        ],\n        \"semantic_type\": \"\",\n        \"description\": \"\"\n      }\n    },\n    {\n      \"column\": \"stories\",\n      \"properties\": {\n        \"dtype\": \"number\",\n        \"std\": 0,\n        \"min\": 1,\n        \"max\": 4,\n        \"num_unique_values\": 4,\n        \"samples\": [\n          4,\n          1,\n          3\n        ],\n        \"semantic_type\": \"\",\n        \"description\": \"\"\n      }\n    },\n    {\n      \"column\": \"mainroad\",\n      \"properties\": {\n        \"dtype\": \"number\",\n        \"std\": 0,\n        \"min\": 0,\n        \"max\": 1,\n        \"num_unique_values\": 2,\n        \"samples\": [\n          0,\n          1\n        ],\n        \"semantic_type\": \"\",\n        \"description\": \"\"\n      }\n    },\n    {\n      \"column\": \"guestroom\",\n      \"properties\": {\n        \"dtype\": \"number\",\n        \"std\": 0,\n        \"min\": 0,\n        \"max\": 1,\n        \"num_unique_values\": 2,\n        \"samples\": [\n          1,\n          0\n        ],\n        \"semantic_type\": \"\",\n        \"description\": \"\"\n      }\n    },\n    {\n      \"column\": \"basement\",\n      \"properties\": {\n        \"dtype\": \"number\",\n        \"std\": 0,\n        \"min\": 0,\n        \"max\": 1,\n        \"num_unique_values\": 2,\n        \"samples\": [\n          1,\n          0\n        ],\n        \"semantic_type\": \"\",\n        \"description\": \"\"\n      }\n    },\n    {\n      \"column\": \"hotwaterheating\",\n      \"properties\": {\n        \"dtype\": \"number\",\n        \"std\": 0,\n        \"min\": 0,\n        \"max\": 1,\n        \"num_unique_values\": 2,\n        \"samples\": [\n          1,\n          0\n        ],\n        \"semantic_type\": \"\",\n        \"description\": \"\"\n      }\n    },\n    {\n      \"column\": \"airconditioning\",\n      \"properties\": {\n        \"dtype\": \"number\",\n        \"std\": 0,\n        \"min\": 0,\n        \"max\": 1,\n        \"num_unique_values\": 2,\n        \"samples\": [\n          0,\n          1\n        ],\n        \"semantic_type\": \"\",\n        \"description\": \"\"\n      }\n    },\n    {\n      \"column\": \"parking\",\n      \"properties\": {\n        \"dtype\": \"number\",\n        \"std\": 0,\n        \"min\": 0,\n        \"max\": 3,\n        \"num_unique_values\": 4,\n        \"samples\": [\n          3,\n          1\n        ],\n        \"semantic_type\": \"\",\n        \"description\": \"\"\n      }\n    },\n    {\n      \"column\": \"prefarea\",\n      \"properties\": {\n        \"dtype\": \"number\",\n        \"std\": 0,\n        \"min\": 0,\n        \"max\": 1,\n        \"num_unique_values\": 2,\n        \"samples\": [\n          0,\n          1\n        ],\n        \"semantic_type\": \"\",\n        \"description\": \"\"\n      }\n    },\n    {\n      \"column\": \"furnishingstatus\",\n      \"properties\": {\n        \"dtype\": \"number\",\n        \"std\": 0,\n        \"min\": 0,\n        \"max\": 2,\n        \"num_unique_values\": 3,\n        \"samples\": [\n          1,\n          2\n        ],\n        \"semantic_type\": \"\",\n        \"description\": \"\"\n      }\n    }\n  ]\n}"
            }
          },
          "metadata": {},
          "execution_count": 4
        }
      ]
    },
    {
      "cell_type": "code",
      "source": [
        "# Check di alcuni dati:\n",
        "df.shape # 545 osservazioni, 13 features\n",
        "df.isna().sum() # Nessun valore mancante\n",
        "df.info() # Le variabili delle features sono tutte numeriche (alcune già binarie tra l'altro)"
      ],
      "metadata": {
        "colab": {
          "base_uri": "https://localhost:8080/"
        },
        "id": "Rga2LFtkUPYI",
        "outputId": "8a10656a-3e8b-48a9-b501-dcb0cfd07fa7"
      },
      "execution_count": 5,
      "outputs": [
        {
          "output_type": "stream",
          "name": "stdout",
          "text": [
            "<class 'pandas.core.frame.DataFrame'>\n",
            "RangeIndex: 545 entries, 0 to 544\n",
            "Data columns (total 13 columns):\n",
            " #   Column            Non-Null Count  Dtype\n",
            "---  ------            --------------  -----\n",
            " 0   price             545 non-null    int64\n",
            " 1   area              545 non-null    int64\n",
            " 2   bedrooms          545 non-null    int64\n",
            " 3   bathrooms         545 non-null    int64\n",
            " 4   stories           545 non-null    int64\n",
            " 5   mainroad          545 non-null    int64\n",
            " 6   guestroom         545 non-null    int64\n",
            " 7   basement          545 non-null    int64\n",
            " 8   hotwaterheating   545 non-null    int64\n",
            " 9   airconditioning   545 non-null    int64\n",
            " 10  parking           545 non-null    int64\n",
            " 11  prefarea          545 non-null    int64\n",
            " 12  furnishingstatus  545 non-null    int64\n",
            "dtypes: int64(13)\n",
            "memory usage: 55.5 KB\n"
          ]
        }
      ]
    },
    {
      "cell_type": "markdown",
      "source": [
        "## 1. STANDARDIZZAZIONE"
      ],
      "metadata": {
        "id": "9mttsM3PhSIs"
      }
    },
    {
      "cell_type": "code",
      "source": [
        "X = df.drop(\"price\", axis=1).values\n",
        "y = df[\"price\"].values\n",
        "\n",
        "X.shape, y.shape"
      ],
      "metadata": {
        "colab": {
          "base_uri": "https://localhost:8080/"
        },
        "id": "D9QnQFJFhR2U",
        "outputId": "3562a9e6-ee9d-42e4-90a7-e57d89b91a5b"
      },
      "execution_count": 6,
      "outputs": [
        {
          "output_type": "execute_result",
          "data": {
            "text/plain": [
              "((545, 12), (545,))"
            ]
          },
          "metadata": {},
          "execution_count": 6
        }
      ]
    },
    {
      "cell_type": "code",
      "source": [
        "X_train, X_test, y_train, y_test = train_test_split(X, y, test_size=0.3, random_state=RANDOM_SEED)"
      ],
      "metadata": {
        "id": "inVw9F8Xn50r"
      },
      "execution_count": 7,
      "outputs": []
    },
    {
      "cell_type": "code",
      "source": [
        "# Standardizzo:\n",
        "ss = StandardScaler()\n",
        "X_train = ss.fit_transform(X_train)\n",
        "X_test = ss.transform(X_test)"
      ],
      "metadata": {
        "id": "vGfm9V_4hR0c"
      },
      "execution_count": 8,
      "outputs": []
    },
    {
      "cell_type": "code",
      "source": [
        "# CHECK:\n",
        "print(f\"Training set: {X_train.shape}\")\n",
        "print(f\"Test set: {X_test.shape}\")\n",
        "print(f\"Media X_train post standard.: {X_train.mean(axis=0).round(10)}\") # OK\n",
        "print(f\"Deviazione standard per X_train: {X_train.std(axis=0).round(10)}\") # OK"
      ],
      "metadata": {
        "colab": {
          "base_uri": "https://localhost:8080/"
        },
        "id": "PawoTrajncqm",
        "outputId": "1417d852-4d46-43ed-ae06-e3fbe1315bee"
      },
      "execution_count": 9,
      "outputs": [
        {
          "output_type": "stream",
          "name": "stdout",
          "text": [
            "Training set: (381, 12)\n",
            "Test set: (164, 12)\n",
            "Media X_train post standard.: [-0.  0. -0. -0. -0.  0. -0.  0.  0.  0. -0. -0.]\n",
            "Deviazione standard per X_train: [1. 1. 1. 1. 1. 1. 1. 1. 1. 1. 1. 1.]\n"
          ]
        }
      ]
    },
    {
      "cell_type": "markdown",
      "source": [
        "# 2. CREAZIONE MODELLI DI REGRESSIONE"
      ],
      "metadata": {
        "id": "wHDRF8-sqpAg"
      }
    },
    {
      "cell_type": "code",
      "source": [
        "# DEFINISCO UNA FUNZIONE \"COMUNE\" PER TUTTI E 3 I MODELLI, IN MODO DA EVITARE CODICE RIDONDANTE.\n",
        "\n",
        "# OSS: anche se la traccia non la richiede, calcolo anche l'R2:\n",
        "\n",
        "def evaluate_model(model, X_train, y_train, X_test, y_test):\n",
        "  # Previsione sul set di test:\n",
        "  y_pred = model.predict(X_test)\n",
        "\n",
        "  # Sia il mean_squared_error che il r2_score li calcolo sia sul test di set (x vedere quanto bene il modello generalizza\n",
        "  # su dati che non ha mai vistos), sia l'MSE sul train set tramite validazione incrociata su 5 fold (= x def. il modello viene quindi\n",
        "  # addestrato su 4/5 dei dati e testato sull'1/5, per 5 volte => ALLA FINE FA LA MEDIA)\n",
        "  mse_train = -cross_val_score(model, X_train, y_train, cv=5, scoring=\"neg_mean_squared_error\").mean()\n",
        "  mse_test = mean_squared_error(y_test, y_pred)\n",
        "  r2_train = cross_val_score(model, X_train, y_train, cv=5, scoring=\"r2\").mean()\n",
        "  r2_test = r2_score(y_test, y_pred)\n",
        "\n",
        "  # CALCOLO DEI COEFFICIENTI NON NULLI:\n",
        "  non_null_coefs = np.sum(np.abs(model.coef_) > 1e-10)\n",
        "  total_coefs = len(model.coef_)\n",
        "  print(f\"Coefficienti non nulli: {non_null_coefs} / {total_coefs}\")\n",
        "\n",
        "  # In una futura implementazione, potrei anche mettere un ciclo if..else di controllo su EVENTUALI coeff. nulli\n",
        "\n",
        "  # METTO I RISULTATI IN UN DIZIONARIO:\n",
        "  risultati = {\n",
        "      \"mse_train\": mse_train,\n",
        "      \"mse_test\": mse_test,\n",
        "      \"r2_train\": r2_train,\n",
        "      \"r2_test\": r2_test,\n",
        "      \"non_null_coefs\": non_null_coefs,\n",
        "      \"total_coefs\": total_coefs\n",
        "  }\n",
        "\n",
        "\n",
        "  return risultati"
      ],
      "metadata": {
        "id": "q-FktPjojjK2"
      },
      "execution_count": 48,
      "outputs": []
    },
    {
      "cell_type": "markdown",
      "source": [
        "Da ricordare che Sci-Kit Learn restituisce il valore negativo dell'MSE, in quanto di default tende a massimizzare i punteggi.\n",
        "\n",
        "Per definizione, però, l'MSE deve essere minimizzato; ecco perché si usa il -."
      ],
      "metadata": {
        "id": "Dn6ijB7DvuLJ"
      }
    },
    {
      "cell_type": "code",
      "source": [
        "# LASSO:\n",
        "lasso = Lasso(alpha= 0.1)\n",
        "lasso.fit(X_train, y_train)\n",
        "evaluate_model(lasso, X_train, y_train, X_test, y_test) #MSE ABBASTANZA ALTI, ma è normale visto il target. L'MSE sul set train è < del train set..\n",
        "\n",
        "# R2 sul set di test di 0.72 => modello buono\n",
        "# 12 coefficienti totali, tutti diversi da 0 -> il modello ha considerato correttamente tutte le feature"
      ],
      "metadata": {
        "colab": {
          "base_uri": "https://localhost:8080/"
        },
        "id": "qiTjXGHOhRym",
        "outputId": "883f172e-e65d-4be7-b417-f6e35ebb4441"
      },
      "execution_count": 11,
      "outputs": [
        {
          "output_type": "stream",
          "name": "stdout",
          "text": [
            "Coefficienti non nulli: 12 / 12\n"
          ]
        },
        {
          "output_type": "execute_result",
          "data": {
            "text/plain": [
              "{'mse_train': np.float64(1301414802946.2195),\n",
              " 'mse_test': 961886997102.6257,\n",
              " 'r2_train': np.float64(0.624653684874497),\n",
              " 'r2_test': 0.7227012055821017,\n",
              " 'non_null_coefs': np.int64(12),\n",
              " 'total_coefs': 12}"
            ]
          },
          "metadata": {},
          "execution_count": 11
        }
      ]
    },
    {
      "cell_type": "markdown",
      "source": [
        "Il r2_score sul training set è di 0.62; ciò significa che il modello spiega circa il 62% della varianza nei dati di training; in pratica, il modello ha una buona (ma non eccellente) capacità esplicativa sui dati che vede durante l'addestramento.\n",
        "\n",
        "Invece, sul test set l'r2_score è di 0.72 e, come commentato anche nello script, suggerisce che il modello generalizza bene (circa il 72% della varianza).\n",
        "\n",
        "Infine, gli MSE sono molto alti (dovuti al valore del target ovviamente), ma quello che ci interessa è il CONFRONTO tra i vari modelli, non il valore assoluto."
      ],
      "metadata": {
        "id": "BsqU1k_haPLS"
      }
    },
    {
      "cell_type": "code",
      "source": [
        "# RIDGE:\n",
        "ridge = Ridge(alpha= 1.0)\n",
        "ridge.fit(X_train, y_train)\n",
        "evaluate_model(ridge, X_train, y_train, X_test, y_test) # R2 sul set di test di 0.726 => modello buono"
      ],
      "metadata": {
        "colab": {
          "base_uri": "https://localhost:8080/"
        },
        "id": "qBhwUly-hRwg",
        "outputId": "554a22f0-e6cb-4654-b5b3-422ddf927613"
      },
      "execution_count": 12,
      "outputs": [
        {
          "output_type": "stream",
          "name": "stdout",
          "text": [
            "Coefficienti non nulli: 12 / 12\n"
          ]
        },
        {
          "output_type": "execute_result",
          "data": {
            "text/plain": [
              "{'mse_train': np.float64(1300967026655.7612),\n",
              " 'mse_test': 961436118597.6902,\n",
              " 'r2_train': np.float64(0.6248172707546693),\n",
              " 'r2_test': 0.722831187655073,\n",
              " 'non_null_coefs': np.int64(12),\n",
              " 'total_coefs': 12}"
            ]
          },
          "metadata": {},
          "execution_count": 12
        }
      ]
    },
    {
      "cell_type": "markdown",
      "source": [
        "Qui ho scelto alpha=1.0 riprendendo anche un po' il valore utilizzato nella pratica, e, esattamente come ci ha insegnato il prof., non c'è molta differenza rispetto al Lasso."
      ],
      "metadata": {
        "id": "gQsLlgahbNQ6"
      }
    },
    {
      "cell_type": "code",
      "source": [
        "# ELASTIC-NET:\n",
        "elastic = ElasticNet(alpha= 1.0, l1_ratio= 0.5)\n",
        "elastic.fit(X_train, y_train)\n",
        "evaluate_model(elastic, X_train, y_train, X_test, y_test)  # R2 di 0.66 => Modello discreto -> È il modello migliore tra i 3"
      ],
      "metadata": {
        "colab": {
          "base_uri": "https://localhost:8080/"
        },
        "id": "JQW_WzfMhRdy",
        "outputId": "3897caf8-444b-4ef6-c71b-8317edde46ea"
      },
      "execution_count": 18,
      "outputs": [
        {
          "output_type": "stream",
          "name": "stdout",
          "text": [
            "Coefficienti non nulli: 12 / 12\n"
          ]
        },
        {
          "output_type": "execute_result",
          "data": {
            "text/plain": [
              "{'mse_train': np.float64(1358262694990.7476),\n",
              " 'mse_test': 1016384763294.2836,\n",
              " 'r2_train': np.float64(0.6124312302297664),\n",
              " 'r2_test': 0.7069902489843561,\n",
              " 'non_null_coefs': np.int64(12),\n",
              " 'total_coefs': 12}"
            ]
          },
          "metadata": {},
          "execution_count": 18
        }
      ]
    },
    {
      "cell_type": "markdown",
      "source": [],
      "metadata": {
        "id": "cGGOAcoDbfUe"
      }
    },
    {
      "cell_type": "markdown",
      "source": [
        "---------"
      ],
      "metadata": {
        "id": "XFrdMa3GwEkJ"
      }
    },
    {
      "cell_type": "markdown",
      "source": [
        "# 3. VISUALIZZAZIONE DEI RISULTATI\n",
        "\n",
        "Innanzitutto, andiamo a tracciare per completezza le LEARNING CURVES per ogni modello."
      ],
      "metadata": {
        "id": "mkw94LpLwFnE"
      }
    },
    {
      "cell_type": "code",
      "source": [
        "sns.set_theme()"
      ],
      "metadata": {
        "id": "hoNYn8fxwdZw"
      },
      "execution_count": 14,
      "outputs": []
    },
    {
      "cell_type": "code",
      "source": [
        "# LASSO:\n",
        "train_size_abs_lasso, train_score_lasso, test_score_lasso = learning_curve(\n",
        "    Lasso(),\n",
        "    X, y,\n",
        "    random_state = RANDOM_SEED\n",
        ")\n",
        "\n",
        "plt.plot(train_size_abs_lasso, train_score_lasso.mean(axis=1), label=\"train score\")\n",
        "plt.plot(train_size_abs_lasso, test_score_lasso.mean(axis=1), label=\"test score\")\n",
        "plt.legend()\n",
        "plt.show()"
      ],
      "metadata": {
        "id": "Z0opJEgHUPWC",
        "colab": {
          "base_uri": "https://localhost:8080/",
          "height": 434
        },
        "outputId": "eafed680-0dc9-423b-b53a-e84bfc2793ed"
      },
      "execution_count": 15,
      "outputs": [
        {
          "output_type": "display_data",
          "data": {
            "text/plain": [
              "<Figure size 640x480 with 1 Axes>"
            ],
            "image/png": "[encoded data removed]"
          },
          "metadata": {}
        }
      ]
    },
    {
      "cell_type": "code",
      "source": [
        "# RIDGE:\n",
        "train_size_abs_ridge, train_score_ridge, test_score_ridge = learning_curve(\n",
        "    Ridge(alpha=10.),\n",
        "    X, y,\n",
        "    random_state = RANDOM_SEED\n",
        ")\n",
        "\n",
        "plt.plot(train_size_abs_ridge, train_score_ridge.mean(axis=1), label=\"train score\")\n",
        "plt.plot(train_size_abs_ridge, test_score_ridge.mean(axis=1), label=\"test score\")\n",
        "plt.legend()\n",
        "plt.show()"
      ],
      "metadata": {
        "colab": {
          "base_uri": "https://localhost:8080/",
          "height": 434
        },
        "id": "5tyvaJG3xlYg",
        "outputId": "3378efc9-493e-4574-ccab-ad81e2dccacf"
      },
      "execution_count": 16,
      "outputs": [
        {
          "output_type": "display_data",
          "data": {
            "text/plain": [
              "<Figure size 640x480 with 1 Axes>"
            ],
            "image/png": "[encoded data removed]"
          },
          "metadata": {}
        }
      ]
    },
    {
      "cell_type": "markdown",
      "source": [
        "Notiamo anche qui che il Lasso e il Ridge hanno performance praticamente identiche, con l'overfitting che da circa 300 osservazioni inizia a ridursi."
      ],
      "metadata": {
        "id": "m-4Cai-CZ94o"
      }
    },
    {
      "cell_type": "code",
      "source": [
        "# ELASTIC-NET:\n",
        "train_size_abs_elastic, train_score_elastic, test_score_elastic = learning_curve(\n",
        "    ElasticNet(alpha=10., l1_ratio=0.5),\n",
        "    X, y,\n",
        "    random_state = RANDOM_SEED\n",
        ")\n",
        "\n",
        "plt.plot(train_size_abs_elastic, train_score_elastic.mean(axis=1), label=\"train score\")\n",
        "plt.plot(train_size_abs_elastic, test_score_elastic.mean(axis=1), label=\"test score\")\n",
        "plt.legend()\n",
        "plt.show()"
      ],
      "metadata": {
        "id": "KzjYwJRvUPUN",
        "colab": {
          "base_uri": "https://localhost:8080/",
          "height": 434
        },
        "outputId": "b61b2604-c741-4785-ad38-ba91597786f5"
      },
      "execution_count": 17,
      "outputs": [
        {
          "output_type": "display_data",
          "data": {
            "text/plain": [
              "<Figure size 640x480 with 1 Axes>"
            ],
            "image/png": "[encoded data removed]"
          },
          "metadata": {}
        }
      ]
    },
    {
      "cell_type": "markdown",
      "source": [
        "Andiamo ora a graficare gli MSE dei vari modelli per confrontarli tra di loro:"
      ],
      "metadata": {
        "id": "M21JEUo5zAGm"
      }
    },
    {
      "cell_type": "code",
      "source": [
        "sns.set_theme()"
      ],
      "metadata": {
        "id": "f6X10A6DelwQ"
      },
      "execution_count": 21,
      "outputs": []
    },
    {
      "cell_type": "code",
      "source": [
        "# Innanzitutto, salvo le metriche di ogni modello in una variabile:\n",
        "results_ridge = evaluate_model(ridge, X_train, y_train, X_test, y_test)\n",
        "results_lasso = evaluate_model(lasso, X_train, y_train, X_test, y_test)\n",
        "results_elastic = evaluate_model(elastic, X_train, y_train, X_test, y_test)"
      ],
      "metadata": {
        "id": "Ps8hzmQ2dmJv"
      },
      "execution_count": null,
      "outputs": []
    },
    {
      "cell_type": "code",
      "source": [
        "# Per praticità, creo un dataframe con gli MSE:\n",
        "risultati_df = pd.DataFrame({\n",
        "    \"Model\": [\"Ridge\", \"Lasso\", \"Elastic-Net\"],\n",
        "    \"MSE_train\": [results_ridge[\"mse_train\"], results_lasso[\"mse_train\"], results_elastic[\"mse_train\"]],\n",
        "    \"MSE_test\": [results_ridge[\"mse_test\"], results_lasso[\"mse_test\"], results_elastic[\"mse_test\"]],\n",
        "    \"R2_train\": [results_ridge[\"r2_train\"], results_lasso[\"r2_train\"], results_elastic[\"r2_train\"]],\n",
        "    \"R2_test\": [results_ridge[\"r2_test\"], results_lasso[\"r2_test\"], results_elastic[\"r2_test\"]],\n",
        "    \"Non_null_coefs\": [results_ridge[\"non_null_coefs\"], results_lasso[\"non_null_coefs\"], results_elastic[\"non_null_coefs\"]]\n",
        "})\n",
        "\n",
        "risultati_df\n"
      ],
      "metadata": {
        "id": "ANQghG3PigoZ",
        "colab": {
          "base_uri": "https://localhost:8080/",
          "height": 142
        },
        "outputId": "61ef00b3-4b24-4013-d7e8-ea34fe365208"
      },
      "execution_count": 23,
      "outputs": [
        {
          "output_type": "execute_result",
          "data": {
            "text/plain": [
              "         Model     MSE_train      MSE_test  R2_train   R2_test  Non_null_coefs\n",
              "0        Ridge  1.300967e+12  9.614361e+11  0.624817  0.722831              12\n",
              "1        Lasso  1.301415e+12  9.618870e+11  0.624654  0.722701              12\n",
              "2  Elastic-Net  1.358263e+12  1.016385e+12  0.612431  0.706990              12"
            ],
            "text/html": [
              "\n",
              "  <div id=\"df-dc52e644-5f72-4763-8875-8d72bdfb3f2b\" class=\"colab-df-container\">\n",
              "    <div>\n",
              "<style scoped>\n",
              "    .dataframe tbody tr th:only-of-type {\n",
              "        vertical-align: middle;\n",
              "    }\n",
              "\n",
              "    .dataframe tbody tr th {\n",
              "        vertical-align: top;\n",
              "    }\n",
              "\n",
              "    .dataframe thead th {\n",
              "        text-align: right;\n",
              "    }\n",
              "</style>\n",
              "<table border=\"1\" class=\"dataframe\">\n",
              "  <thead>\n",
              "    <tr style=\"text-align: right;\">\n",
              "      <th></th>\n",
              "      <th>Model</th>\n",
              "      <th>MSE_train</th>\n",
              "      <th>MSE_test</th>\n",
              "      <th>R2_train</th>\n",
              "      <th>R2_test</th>\n",
              "      <th>Non_null_coefs</th>\n",
              "    </tr>\n",
              "  </thead>\n",
              "  <tbody>\n",
              "    <tr>\n",
              "      <th>0</th>\n",
              "      <td>Ridge</td>\n",
              "      <td>1.300967e+12</td>\n",
              "      <td>9.614361e+11</td>\n",
              "      <td>0.624817</td>\n",
              "      <td>0.722831</td>\n",
              "      <td>12</td>\n",
              "    </tr>\n",
              "    <tr>\n",
              "      <th>1</th>\n",
              "      <td>Lasso</td>\n",
              "      <td>1.301415e+12</td>\n",
              "      <td>9.618870e+11</td>\n",
              "      <td>0.624654</td>\n",
              "      <td>0.722701</td>\n",
              "      <td>12</td>\n",
              "    </tr>\n",
              "    <tr>\n",
              "      <th>2</th>\n",
              "      <td>Elastic-Net</td>\n",
              "      <td>1.358263e+12</td>\n",
              "      <td>1.016385e+12</td>\n",
              "      <td>0.612431</td>\n",
              "      <td>0.706990</td>\n",
              "      <td>12</td>\n",
              "    </tr>\n",
              "  </tbody>\n",
              "</table>\n",
              "</div>\n",
              "    <div class=\"colab-df-buttons\">\n",
              "\n",
              "  <div class=\"colab-df-container\">\n",
              "    <button class=\"colab-df-convert\" onclick=\"convertToInteractive('df-dc52e644-5f72-4763-8875-8d72bdfb3f2b')\"\n",
              "            title=\"Convert this dataframe to an interactive table.\"\n",
              "            style=\"display:none;\">\n",
              "\n",
              "  <svg xmlns=\"http://www.w3.org/2000/svg\" height=\"24px\" viewBox=\"0 -960 960 960\">\n",
              "    <path d=\"M120-120v-720h720v720H120Zm60-500h600v-160H180v160Zm220 220h160v-160H400v160Zm0 220h160v-160H400v160ZM180-400h160v-160H180v160Zm440 0h160v-160H620v160ZM180-180h160v-160H180v160Zm440 0h160v-160H620v160Z\"/>\n",
              "  </svg>\n",
              "    </button>\n",
              "\n",
              "  <style>\n",
              "    .colab-df-container {\n",
              "      display:flex;\n",
              "      gap: 12px;\n",
              "    }\n",
              "\n",
              "    .colab-df-convert {\n",
              "      background-color: #E8F0FE;\n",
              "      border: none;\n",
              "      border-radius: 50%;\n",
              "      cursor: pointer;\n",
              "      display: none;\n",
              "      fill: #1967D2;\n",
              "      height: 32px;\n",
              "      padding: 0 0 0 0;\n",
              "      width: 32px;\n",
              "    }\n",
              "\n",
              "    .colab-df-convert:hover {\n",
              "      background-color: #E2EBFA;\n",
              "      box-shadow: 0px 1px 2px rgba(60, 64, 67, 0.3), 0px 1px 3px 1px rgba(60, 64, 67, 0.15);\n",
              "      fill: #174EA6;\n",
              "    }\n",
              "\n",
              "    .colab-df-buttons div {\n",
              "      margin-bottom: 4px;\n",
              "    }\n",
              "\n",
              "    [theme=dark] .colab-df-convert {\n",
              "      background-color: #3B4455;\n",
              "      fill: #D2E3FC;\n",
              "    }\n",
              "\n",
              "    [theme=dark] .colab-df-convert:hover {\n",
              "      background-color: #434B5C;\n",
              "      box-shadow: 0px 1px 3px 1px rgba(0, 0, 0, 0.15);\n",
              "      filter: drop-shadow(0px 1px 2px rgba(0, 0, 0, 0.3));\n",
              "      fill: #FFFFFF;\n",
              "    }\n",
              "  </style>\n",
              "\n",
              "    <script>\n",
              "      const buttonEl =\n",
              "        document.querySelector('#df-dc52e644-5f72-4763-8875-8d72bdfb3f2b button.colab-df-convert');\n",
              "      buttonEl.style.display =\n",
              "        google.colab.kernel.accessAllowed ? 'block' : 'none';\n",
              "\n",
              "      async function convertToInteractive(key) {\n",
              "        const element = document.querySelector('#df-dc52e644-5f72-4763-8875-8d72bdfb3f2b');\n",
              "        const dataTable =\n",
              "          await google.colab.kernel.invokeFunction('convertToInteractive',\n",
              "                                                    [key], {});\n",
              "        if (!dataTable) return;\n",
              "\n",
              "        const docLinkHtml = 'Like what you see? Visit the ' +\n",
              "          '<a target=\"_blank\" href=https://colab.research.google.com/notebooks/data_table.ipynb>data table notebook</a>'\n",
              "          + ' to learn more about interactive tables.';\n",
              "        element.innerHTML = '';\n",
              "        dataTable['output_type'] = 'display_data';\n",
              "        await google.colab.output.renderOutput(dataTable, element);\n",
              "        const docLink = document.createElement('div');\n",
              "        docLink.innerHTML = docLinkHtml;\n",
              "        element.appendChild(docLink);\n",
              "      }\n",
              "    </script>\n",
              "  </div>\n",
              "\n",
              "\n",
              "    <div id=\"df-ca820957-6007-4dfa-86fd-6ac1dedd9641\">\n",
              "      <button class=\"colab-df-quickchart\" onclick=\"quickchart('df-ca820957-6007-4dfa-86fd-6ac1dedd9641')\"\n",
              "                title=\"Suggest charts\"\n",
              "                style=\"display:none;\">\n",
              "\n",
              "<svg xmlns=\"http://www.w3.org/2000/svg\" height=\"24px\"viewBox=\"0 0 24 24\"\n",
              "     width=\"24px\">\n",
              "    <g>\n",
              "        <path d=\"M19 3H5c-1.1 0-2 .9-2 2v14c0 1.1.9 2 2 2h14c1.1 0 2-.9 2-2V5c0-1.1-.9-2-2-2zM9 17H7v-7h2v7zm4 0h-2V7h2v10zm4 0h-2v-4h2v4z\"/>\n",
              "    </g>\n",
              "</svg>\n",
              "      </button>\n",
              "\n",
              "<style>\n",
              "  .colab-df-quickchart {\n",
              "      --bg-color: #E8F0FE;\n",
              "      --fill-color: #1967D2;\n",
              "      --hover-bg-color: #E2EBFA;\n",
              "      --hover-fill-color: #174EA6;\n",
              "      --disabled-fill-color: #AAA;\n",
              "      --disabled-bg-color: #DDD;\n",
              "  }\n",
              "\n",
              "  [theme=dark] .colab-df-quickchart {\n",
              "      --bg-color: #3B4455;\n",
              "      --fill-color: #D2E3FC;\n",
              "      --hover-bg-color: #434B5C;\n",
              "      --hover-fill-color: #FFFFFF;\n",
              "      --disabled-bg-color: #3B4455;\n",
              "      --disabled-fill-color: #666;\n",
              "  }\n",
              "\n",
              "  .colab-df-quickchart {\n",
              "    background-color: var(--bg-color);\n",
              "    border: none;\n",
              "    border-radius: 50%;\n",
              "    cursor: pointer;\n",
              "    display: none;\n",
              "    fill: var(--fill-color);\n",
              "    height: 32px;\n",
              "    padding: 0;\n",
              "    width: 32px;\n",
              "  }\n",
              "\n",
              "  .colab-df-quickchart:hover {\n",
              "    background-color: var(--hover-bg-color);\n",
              "    box-shadow: 0 1px 2px rgba(60, 64, 67, 0.3), 0 1px 3px 1px rgba(60, 64, 67, 0.15);\n",
              "    fill: var(--button-hover-fill-color);\n",
              "  }\n",
              "\n",
              "  .colab-df-quickchart-complete:disabled,\n",
              "  .colab-df-quickchart-complete:disabled:hover {\n",
              "    background-color: var(--disabled-bg-color);\n",
              "    fill: var(--disabled-fill-color);\n",
              "    box-shadow: none;\n",
              "  }\n",
              "\n",
              "  .colab-df-spinner {\n",
              "    border: 2px solid var(--fill-color);\n",
              "    border-color: transparent;\n",
              "    border-bottom-color: var(--fill-color);\n",
              "    animation:\n",
              "      spin 1s steps(1) infinite;\n",
              "  }\n",
              "\n",
              "  @keyframes spin {\n",
              "    0% {\n",
              "      border-color: transparent;\n",
              "      border-bottom-color: var(--fill-color);\n",
              "      border-left-color: var(--fill-color);\n",
              "    }\n",
              "    20% {\n",
              "      border-color: transparent;\n",
              "      border-left-color: var(--fill-color);\n",
              "      border-top-color: var(--fill-color);\n",
              "    }\n",
              "    30% {\n",
              "      border-color: transparent;\n",
              "      border-left-color: var(--fill-color);\n",
              "      border-top-color: var(--fill-color);\n",
              "      border-right-color: var(--fill-color);\n",
              "    }\n",
              "    40% {\n",
              "      border-color: transparent;\n",
              "      border-right-color: var(--fill-color);\n",
              "      border-top-color: var(--fill-color);\n",
              "    }\n",
              "    60% {\n",
              "      border-color: transparent;\n",
              "      border-right-color: var(--fill-color);\n",
              "    }\n",
              "    80% {\n",
              "      border-color: transparent;\n",
              "      border-right-color: var(--fill-color);\n",
              "      border-bottom-color: var(--fill-color);\n",
              "    }\n",
              "    90% {\n",
              "      border-color: transparent;\n",
              "      border-bottom-color: var(--fill-color);\n",
              "    }\n",
              "  }\n",
              "</style>\n",
              "\n",
              "      <script>\n",
              "        async function quickchart(key) {\n",
              "          const quickchartButtonEl =\n",
              "            document.querySelector('#' + key + ' button');\n",
              "          quickchartButtonEl.disabled = true;  // To prevent multiple clicks.\n",
              "          quickchartButtonEl.classList.add('colab-df-spinner');\n",
              "          try {\n",
              "            const charts = await google.colab.kernel.invokeFunction(\n",
              "                'suggestCharts', [key], {});\n",
              "          } catch (error) {\n",
              "            console.error('Error during call to suggestCharts:', error);\n",
              "          }\n",
              "          quickchartButtonEl.classList.remove('colab-df-spinner');\n",
              "          quickchartButtonEl.classList.add('colab-df-quickchart-complete');\n",
              "        }\n",
              "        (() => {\n",
              "          let quickchartButtonEl =\n",
              "            document.querySelector('#df-ca820957-6007-4dfa-86fd-6ac1dedd9641 button');\n",
              "          quickchartButtonEl.style.display =\n",
              "            google.colab.kernel.accessAllowed ? 'block' : 'none';\n",
              "        })();\n",
              "      </script>\n",
              "    </div>\n",
              "\n",
              "  <div id=\"id_579b059f-9aa8-4043-ab73-da6c37502308\">\n",
              "    <style>\n",
              "      .colab-df-generate {\n",
              "        background-color: #E8F0FE;\n",
              "        border: none;\n",
              "        border-radius: 50%;\n",
              "        cursor: pointer;\n",
              "        display: none;\n",
              "        fill: #1967D2;\n",
              "        height: 32px;\n",
              "        padding: 0 0 0 0;\n",
              "        width: 32px;\n",
              "      }\n",
              "\n",
              "      .colab-df-generate:hover {\n",
              "        background-color: #E2EBFA;\n",
              "        box-shadow: 0px 1px 2px rgba(60, 64, 67, 0.3), 0px 1px 3px 1px rgba(60, 64, 67, 0.15);\n",
              "        fill: #174EA6;\n",
              "      }\n",
              "\n",
              "      [theme=dark] .colab-df-generate {\n",
              "        background-color: #3B4455;\n",
              "        fill: #D2E3FC;\n",
              "      }\n",
              "\n",
              "      [theme=dark] .colab-df-generate:hover {\n",
              "        background-color: #434B5C;\n",
              "        box-shadow: 0px 1px 3px 1px rgba(0, 0, 0, 0.15);\n",
              "        filter: drop-shadow(0px 1px 2px rgba(0, 0, 0, 0.3));\n",
              "        fill: #FFFFFF;\n",
              "      }\n",
              "    </style>\n",
              "    <button class=\"colab-df-generate\" onclick=\"generateWithVariable('risultati_df')\"\n",
              "            title=\"Generate code using this dataframe.\"\n",
              "            style=\"display:none;\">\n",
              "\n",
              "  <svg xmlns=\"http://www.w3.org/2000/svg\" height=\"24px\"viewBox=\"0 0 24 24\"\n",
              "       width=\"24px\">\n",
              "    <path d=\"M7,19H8.4L18.45,9,17,7.55,7,17.6ZM5,21V16.75L18.45,3.32a2,2,0,0,1,2.83,0l1.4,1.43a1.91,1.91,0,0,1,.58,1.4,1.91,1.91,0,0,1-.58,1.4L9.25,21ZM18.45,9,17,7.55Zm-12,3A5.31,5.31,0,0,0,4.9,8.1,5.31,5.31,0,0,0,1,6.5,5.31,5.31,0,0,0,4.9,4.9,5.31,5.31,0,0,0,6.5,1,5.31,5.31,0,0,0,8.1,4.9,5.31,5.31,0,0,0,12,6.5,5.46,5.46,0,0,0,6.5,12Z\"/>\n",
              "  </svg>\n",
              "    </button>\n",
              "    <script>\n",
              "      (() => {\n",
              "      const buttonEl =\n",
              "        document.querySelector('#id_579b059f-9aa8-4043-ab73-da6c37502308 button.colab-df-generate');\n",
              "      buttonEl.style.display =\n",
              "        google.colab.kernel.accessAllowed ? 'block' : 'none';\n",
              "\n",
              "      buttonEl.onclick = () => {\n",
              "        google.colab.notebook.generateWithVariable('risultati_df');\n",
              "      }\n",
              "      })();\n",
              "    </script>\n",
              "  </div>\n",
              "\n",
              "    </div>\n",
              "  </div>\n"
            ],
            "application/vnd.google.colaboratory.intrinsic+json": {
              "type": "dataframe",
              "variable_name": "risultati_df",
              "summary": "{\n  \"name\": \"risultati_df\",\n  \"rows\": 3,\n  \"fields\": [\n    {\n      \"column\": \"Model\",\n      \"properties\": {\n        \"dtype\": \"string\",\n        \"num_unique_values\": 3,\n        \"samples\": [\n          \"Ridge\",\n          \"Lasso\",\n          \"Elastic-Net\"\n        ],\n        \"semantic_type\": \"\",\n        \"description\": \"\"\n      }\n    },\n    {\n      \"column\": \"MSE_train\",\n      \"properties\": {\n        \"dtype\": \"number\",\n        \"std\": 32951168273.333824,\n        \"min\": 1300967026655.7612,\n        \"max\": 1358262694990.7476,\n        \"num_unique_values\": 3,\n        \"samples\": [\n          1300967026655.7612,\n          1301414802946.2195,\n          1358262694990.7476\n        ],\n        \"semantic_type\": \"\",\n        \"description\": \"\"\n      }\n    },\n    {\n      \"column\": \"MSE_test\",\n      \"properties\": {\n        \"dtype\": \"number\",\n        \"std\": 31595261684.043903,\n        \"min\": 961436118597.6902,\n        \"max\": 1016384763294.2836,\n        \"num_unique_values\": 3,\n        \"samples\": [\n          961436118597.6902,\n          961886997102.6257,\n          1016384763294.2836\n        ],\n        \"semantic_type\": \"\",\n        \"description\": \"\"\n      }\n    },\n    {\n      \"column\": \"R2_train\",\n      \"properties\": {\n        \"dtype\": \"number\",\n        \"std\": 0.007104331516373477,\n        \"min\": 0.6124312302297664,\n        \"max\": 0.6248172707546693,\n        \"num_unique_values\": 3,\n        \"samples\": [\n          0.6248172707546693,\n          0.624653684874497,\n          0.6124312302297664\n        ],\n        \"semantic_type\": \"\",\n        \"description\": \"\"\n      }\n    },\n    {\n      \"column\": \"R2_test\",\n      \"properties\": {\n        \"dtype\": \"number\",\n        \"std\": 0.009108479479080223,\n        \"min\": 0.7069902489843561,\n        \"max\": 0.722831187655073,\n        \"num_unique_values\": 3,\n        \"samples\": [\n          0.722831187655073,\n          0.7227012055821017,\n          0.7069902489843561\n        ],\n        \"semantic_type\": \"\",\n        \"description\": \"\"\n      }\n    },\n    {\n      \"column\": \"Non_null_coefs\",\n      \"properties\": {\n        \"dtype\": \"number\",\n        \"std\": 0,\n        \"min\": 12,\n        \"max\": 12,\n        \"num_unique_values\": 1,\n        \"samples\": [\n          12\n        ],\n        \"semantic_type\": \"\",\n        \"description\": \"\"\n      }\n    }\n  ]\n}"
            }
          },
          "metadata": {},
          "execution_count": 23
        }
      ]
    },
    {
      "cell_type": "markdown",
      "source": [
        "---------"
      ],
      "metadata": {
        "id": "fwavSdLfihnU"
      }
    },
    {
      "cell_type": "markdown",
      "source": [
        "Per visualizzare graficamente le performance dei modelli, utilizzo seaborn perché più comodo. In particolare, utilizzo innanzitutto il metodo 'melt()' per convertire il formato del DataFrame in modo da visualizzare MSE_train e MSE_set vicini (per lo stesso model ovviamente); in pratica, converto il DF in un formato leggibile per seaborn."
      ],
      "metadata": {
        "id": "hq3vS9ETiijN"
      }
    },
    {
      "cell_type": "code",
      "source": [
        "mse_df = risultati_df.melt(\n",
        "    id_vars=\"Model\",\n",
        "    value_vars=[\"MSE_train\", \"MSE_test\"],\n",
        "    var_name=\"Set\",\n",
        "    value_name=\"MSE\"\n",
        ")"
      ],
      "metadata": {
        "id": "PiNG27tuy-D8"
      },
      "execution_count": 34,
      "outputs": []
    },
    {
      "cell_type": "markdown",
      "source": [
        "Per confrontare quindi gli MSE, utilizzo banalmente un grafico a barre, usando 1 solo metodo di seaborn, ovvero 'barplot'."
      ],
      "metadata": {
        "id": "XQYVLbkcjdzE"
      }
    },
    {
      "cell_type": "code",
      "source": [
        "plt.figure(figsize=(10, 6))\n",
        "sns.barplot(data=mse_df, x=\"Model\", y=\"MSE\", hue=\"Set\", palette=\"pastel\") #hue = \"Set\" colonna le barre in modo diverso le raggruppa per ciascun model\n",
        "\n",
        "plt.title(\"Confronto MSE tra Modelli\")\n",
        "plt.xlabel(\"Modello\")\n",
        "plt.ylabel(\"Mean Squared Error\")\n",
        "plt.legend(title=\"Set di riferimento\")\n",
        "plt.show()"
      ],
      "metadata": {
        "id": "esuWyr2Ay-B2",
        "colab": {
          "base_uri": "https://localhost:8080/",
          "height": 573
        },
        "outputId": "3f4dfe2e-d8b7-4adf-c39f-235009a3c776"
      },
      "execution_count": 39,
      "outputs": [
        {
          "output_type": "display_data",
          "data": {
            "text/plain": [
              "<Figure size 1000x600 with 1 Axes>"
            ],
            "image/png": "[encoded data removed]"
          },
          "metadata": {}
        }
      ]
    },
    {
      "cell_type": "markdown",
      "source": [
        "OSS: non disegno gli R2 perché non espressivamente richiesti, ma in ogni caso basta cambiare facilmente i value_vars=[\"MSE_train\", \"MSE_test\"] con R2_train e R2_test."
      ],
      "metadata": {
        "id": "AnW4c3LKwb6s"
      }
    },
    {
      "cell_type": "markdown",
      "source": [
        "---------"
      ],
      "metadata": {
        "id": "9nTJF_ESkjgs"
      }
    },
    {
      "cell_type": "markdown",
      "source": [
        "Infine, passiamo ora a visualizzare la distribuzione dei residui.\n",
        "\n",
        "Ricordiamo che il residuo è l'errore che indica la differenza tra il valore reale e la previsione effettuata dal modello.\n",
        "\n",
        "Ricordiamo che, in generale, i residui devono essere distribuiti in modo simmetrico e centrati sullo 0."
      ],
      "metadata": {
        "id": "0ABMVQ7pkkCK"
      }
    },
    {
      "cell_type": "code",
      "source": [
        "# Definiamo quindi una funzione in cui vengono calcolati i residui e mostrati:\n",
        "def plot_residuals(model, dataset):\n",
        "  X, y = dataset\n",
        "  y_pred = model.predict(X)\n",
        "\n",
        "  residuals = y-y_pred\n",
        "\n",
        "  plt.scatter(y_pred, residuals) # Grafichiamo i valori previsti con i residui\n",
        "  plt.axhline(y=0, color=\"r\", linestyle=\"--\")\n",
        "  plt.xlabel(\"Valori Previsti\")\n",
        "  plt.ylabel(\"Residui\")\n",
        "  plt.title(\"Residui del modello\")\n",
        "  plt.show()"
      ],
      "metadata": {
        "id": "TaTh2e3SknMB"
      },
      "execution_count": 44,
      "outputs": []
    },
    {
      "cell_type": "markdown",
      "source": [
        "Ai fini dell'esercizio, calcolo i residui solo sul set di test:"
      ],
      "metadata": {
        "id": "2T-A3ldSrNVD"
      }
    },
    {
      "cell_type": "code",
      "source": [
        "# Iniziamo con il Ridge:\n",
        "plot_residuals(ridge, (X_test, y_test))"
      ],
      "metadata": {
        "colab": {
          "base_uri": "https://localhost:8080/",
          "height": 480
        },
        "id": "BZS44Bo1knnG",
        "outputId": "9da8ae65-b3d5-4c90-d893-0da1973de3d4"
      },
      "execution_count": 45,
      "outputs": [
        {
          "output_type": "display_data",
          "data": {
            "text/plain": [
              "<Figure size 640x480 with 1 Axes>"
            ],
            "image/png": "[encoded data removed]"
          },
          "metadata": {}
        }
      ]
    },
    {
      "cell_type": "markdown",
      "source": [
        "Cosa notiamo per la distribuzione dei residui per il Modello Ridge?\n",
        "\n",
        "- I residui sono ben bilanciati sopra e sotto lo 0 (linea rossa), quindi il modello non ha un bias \"sistematico\", nel senso che non tende a sovrastimare o sottostimare in modo evidente.\n",
        "\n",
        "- Inoltre, non ci sono per fortuna pattern (ex: forme a U, curva, ecc.) -> il modello sembra catturare bene la tendenza centrale.\n",
        "\n",
        "⚠️ ATTENZIONE PERÒ: i residui tendono ad allargarsi all'aumentare del valore previsto del prezzo => ciò mi indica che il modello tende ad essere meno preciso quando il prezzo della casa aumenta.\n",
        "Inoltre, ci sono alcuni punti abbastanza distanti dalla linea rossa; ciò mi suggerisce che potrebbero esserci degli appartamenti con caratteristiche \"anomale\" che il modello non riesce a catturare bene."
      ],
      "metadata": {
        "id": "p4a1dW8Asf2q"
      }
    },
    {
      "cell_type": "code",
      "source": [
        "# LASSO:\n",
        "plot_residuals(lasso, (X_test, y_test))"
      ],
      "metadata": {
        "colab": {
          "base_uri": "https://localhost:8080/",
          "height": 480
        },
        "id": "0utmtzBZknkU",
        "outputId": "3aff4627-3d8c-4226-b9a0-3a2ff02db758"
      },
      "execution_count": 46,
      "outputs": [
        {
          "output_type": "display_data",
          "data": {
            "text/plain": [
              "<Figure size 640x480 with 1 Axes>"
            ],
            "image/png": "[encoded data removed]"
          },
          "metadata": {}
        }
      ]
    },
    {
      "cell_type": "markdown",
      "source": [
        "Anche in questo caso, come avevamo visto per la Learning Curve, i due modelli non differiscono molto."
      ],
      "metadata": {
        "id": "OcxGrnUxvu-7"
      }
    },
    {
      "cell_type": "code",
      "source": [
        "# Elastic-Net:\n",
        "plot_residuals(elastic, (X_test, y_test))"
      ],
      "metadata": {
        "colab": {
          "base_uri": "https://localhost:8080/",
          "height": 480
        },
        "id": "pIz0mxJAkniC",
        "outputId": "e1067789-6dbb-4b75-fac4-dca022447a2e"
      },
      "execution_count": 47,
      "outputs": [
        {
          "output_type": "display_data",
          "data": {
            "text/plain": [
              "<Figure size 640x480 with 1 Axes>"
            ],
            "image/png": "[encoded data removed]"
          },
          "metadata": {}
        }
      ]
    }
  ]
}